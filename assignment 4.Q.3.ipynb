{
 "cells": [
  {
   "cell_type": "code",
   "execution_count": 5,
   "id": "b8624b6f",
   "metadata": {},
   "outputs": [
    {
     "name": "stdout",
     "output_type": "stream",
     "text": [
      "<map object at 0x000001ED194B66E0>\n",
      "[16, 25, 4, 81]\n"
     ]
    }
   ],
   "source": [
    "## Write a Python program to square the elements of a list using map() function.\n",
    "\n",
    "\n",
    "def square(n):\n",
    "    return n*n\n",
    "my_list = [4,5,2,9]\n",
    "updated_list = map(square, my_list)\n",
    "print(updated_list)\n",
    "print(list(updated_list))"
   ]
  },
  {
   "cell_type": "code",
   "execution_count": null,
   "id": "53fa3f32",
   "metadata": {},
   "outputs": [],
   "source": []
  }
 ],
 "metadata": {
  "kernelspec": {
   "display_name": "Python 3 (ipykernel)",
   "language": "python",
   "name": "python3"
  },
  "language_info": {
   "codemirror_mode": {
    "name": "ipython",
    "version": 3
   },
   "file_extension": ".py",
   "mimetype": "text/x-python",
   "name": "python",
   "nbconvert_exporter": "python",
   "pygments_lexer": "ipython3",
   "version": "3.10.1"
  }
 },
 "nbformat": 4,
 "nbformat_minor": 5
}
